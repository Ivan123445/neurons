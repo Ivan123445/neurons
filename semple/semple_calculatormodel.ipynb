{
 "metadata": {
  "kernelspec": {
   "language": "python",
   "display_name": "Python 3",
   "name": "python3"
  },
  "language_info": {
   "name": "python",
   "version": "3.7.12",
   "mimetype": "text/x-python",
   "codemirror_mode": {
    "name": "ipython",
    "version": 3
   },
   "pygments_lexer": "ipython3",
   "nbconvert_exporter": "python",
   "file_extension": ".py"
  }
 },
 "nbformat_minor": 4,
 "nbformat": 4,
 "cells": [
  {
   "cell_type": "code",
   "source": [
    "# This Python 3 environment comes with many helpful analytics libraries installed\n",
    "# It is defined by the kaggle/python Docker image: https://github.com/kaggle/docker-python\n",
    "# For example, here's several helpful packages to load\n",
    "\n",
    "import numpy as np # linear algebra\n",
    "import pandas as pd # data processing, CSV file I/O (e.g. pd.read_csv)\n",
    "\n",
    "# Input data files are available in the read-only \"../input/\" directory\n",
    "# For example, running this (by clicking run or pressing Shift+Enter) will list all files under the input directory\n",
    "\n",
    "import os\n",
    "for dirname, _, filenames in os.walk('/kaggle/input'):\n",
    "    for filename in filenames:\n",
    "        print(os.path.join(dirname, filename))\n",
    "\n",
    "# You can write up to 20GB to the current directory (/kaggle/working/) that gets preserved as output when you create a version using \"Save & Run All\" \n",
    "# You can also write temporary files to /kaggle/temp/, but they won't be saved outside of the current session"
   ],
   "metadata": {
    "_uuid": "8f2839f25d086af736a60e9eeb907d3b93b6e0e5",
    "_cell_guid": "b1076dfc-b9ad-4769-8c92-a6c4dae69d19",
    "trusted": true
   },
   "execution_count": 16,
   "outputs": []
  },
  {
   "cell_type": "code",
   "source": [
    "!pip install imutils"
   ],
   "metadata": {
    "execution": {
     "iopub.status.busy": "2022-02-16T09:55:57.608677Z",
     "iopub.execute_input": "2022-02-16T09:55:57.609122Z",
     "iopub.status.idle": "2022-02-16T09:56:10.390195Z",
     "shell.execute_reply.started": "2022-02-16T09:55:57.609066Z",
     "shell.execute_reply": "2022-02-16T09:56:10.389195Z"
    },
    "trusted": true
   },
   "execution_count": 17,
   "outputs": [
    {
     "name": "stdout",
     "output_type": "stream",
     "text": [
      "Defaulting to user installation because normal site-packages is not writeable\r\n",
      "Requirement already satisfied: imutils in /home/ivan/.local/lib/python3.10/site-packages (0.5.4)\r\n",
      "\r\n",
      "\u001B[1m[\u001B[0m\u001B[34;49mnotice\u001B[0m\u001B[1;39;49m]\u001B[0m\u001B[39;49m A new release of pip available: \u001B[0m\u001B[31;49m22.3\u001B[0m\u001B[39;49m -> \u001B[0m\u001B[32;49m22.3.1\u001B[0m\r\n",
      "\u001B[1m[\u001B[0m\u001B[34;49mnotice\u001B[0m\u001B[1;39;49m]\u001B[0m\u001B[39;49m To update, run: \u001B[0m\u001B[32;49mpython3 -m pip install --upgrade pip\u001B[0m\r\n"
     ]
    }
   ]
  },
  {
   "cell_type": "code",
   "source": [
    "import numpy as np\n",
    "import cv2\n",
    "import os\n",
    "import tensorflow as tf\n",
    "from tensorflow.keras.layers import Input, Conv2D, Activation, MaxPool2D, Flatten, Dense, Dropout, BatchNormalization\n",
    "from tensorflow.keras.initializers import glorot_uniform\n",
    "from tensorflow.keras.models import Sequential\n",
    "from tensorflow.keras.optimizers import Adam, SGD\n",
    "from tensorflow.keras.regularizers import l2\n",
    "from tensorflow.keras.preprocessing.image import ImageDataGenerator\n",
    "from tensorflow.keras.callbacks import LearningRateScheduler, ModelCheckpoint\n",
    "from tensorflow.keras.utils import to_categorical\n",
    "from sklearn.model_selection import train_test_split\n",
    "from sklearn.metrics import classification_report, confusion_matrix\n",
    "from sklearn.preprocessing import LabelEncoder\n",
    "import seaborn as sn\n",
    "import matplotlib.pyplot as plt\n",
    "import pandas as pd\n",
    "import imutils\n",
    "from imutils.contours import sort_contours\n"
   ],
   "metadata": {
    "execution": {
     "iopub.status.busy": "2022-02-16T09:56:18.405302Z",
     "iopub.execute_input": "2022-02-16T09:56:18.405592Z",
     "iopub.status.idle": "2022-02-16T09:56:18.414471Z",
     "shell.execute_reply.started": "2022-02-16T09:56:18.405561Z",
     "shell.execute_reply": "2022-02-16T09:56:18.413680Z"
    },
    "trusted": true
   },
   "execution_count": 18,
   "outputs": []
  },
  {
   "cell_type": "code",
   "source": [
    "!wget https://cainvas-static.s3.amazonaws.com/media/user_data/Yuvnish17/data.zip\n",
    "!unzip -qo data.zip\n"
   ],
   "metadata": {
    "execution": {
     "iopub.status.busy": "2022-02-16T09:56:32.279956Z",
     "iopub.execute_input": "2022-02-16T09:56:32.280469Z",
     "iopub.status.idle": "2022-02-16T09:56:39.665782Z",
     "shell.execute_reply.started": "2022-02-16T09:56:32.280430Z",
     "shell.execute_reply": "2022-02-16T09:56:39.664197Z"
    },
    "trusted": true
   },
   "execution_count": 19,
   "outputs": [
    {
     "name": "stdout",
     "output_type": "stream",
     "text": [
      "--2022-11-16 00:17:08--  https://cainvas-static.s3.amazonaws.com/media/user_data/Yuvnish17/data.zip\r\n",
      "Resolving cainvas-static.s3.amazonaws.com (cainvas-static.s3.amazonaws.com)... 52.219.160.7\r\n",
      "Connecting to cainvas-static.s3.amazonaws.com (cainvas-static.s3.amazonaws.com)|52.219.160.7|:443... connected.\r\n",
      "HTTP request sent, awaiting response... 200 OK\r\n",
      "Length: 28437489 (27M) [application/x-zip-compressed]\r\n",
      "Saving to: ‘data.zip’\r\n",
      "\r\n",
      "data.zip            100%[===================>]  27.12M  3.33MB/s    in 32s     \r\n",
      "\r\n",
      "2022-11-16 00:17:41 (855 KB/s) - ‘data.zip’ saved [28437489/28437489]\r\n",
      "\r\n"
     ]
    }
   ]
  },
  {
   "cell_type": "code",
   "source": [
    "x = []\n",
    "y = []\n",
    "datadir = 'data/dataset'\n",
    "for folder in os.listdir(datadir):\n",
    "    path = os.path.join(datadir, folder)\n",
    "    for images in os.listdir(path):\n",
    "        img = cv2.imread(os.path.join(path, images))\n",
    "        x.append(img)\n",
    "        y.append(folder)\n",
    "        \n",
    "print(len(x))\n",
    "print(len(y))\n",
    "print(f'labels : {list(set(y))}')\n"
   ],
   "metadata": {
    "execution": {
     "iopub.status.busy": "2022-02-16T09:59:17.134381Z",
     "iopub.execute_input": "2022-02-16T09:59:17.134789Z",
     "iopub.status.idle": "2022-02-16T09:59:21.549547Z",
     "shell.execute_reply.started": "2022-02-16T09:59:17.134745Z",
     "shell.execute_reply": "2022-02-16T09:59:21.548606Z"
    },
    "trusted": true
   },
   "execution_count": 20,
   "outputs": [
    {
     "name": "stdout",
     "output_type": "stream",
     "text": [
      "7600\n",
      "7600\n",
      "labels : ['4', 'mul', '6', '8', '9', '3', '5', '7', '0', 'add', '2', 'sub', 'div', '1']\n"
     ]
    }
   ]
  },
  {
   "cell_type": "code",
   "source": [
    "figure = plt.figure(figsize=(10, 10))\n",
    "j = 0\n",
    "for i in list(set(y)):\n",
    "    idx = y.index(i)\n",
    "    img = x[idx]\n",
    "    img = cv2.resize(img, (256, 256))\n",
    "    figure.add_subplot(5, 5, j+1)\n",
    "    plt.imshow(img)\n",
    "    plt.axis('off')\n",
    "    plt.title(i)\n",
    "    j += 1\n"
   ],
   "metadata": {
    "execution": {
     "iopub.status.busy": "2022-02-16T09:59:23.845622Z",
     "iopub.execute_input": "2022-02-16T09:59:23.845903Z",
     "iopub.status.idle": "2022-02-16T09:59:24.886979Z",
     "shell.execute_reply.started": "2022-02-16T09:59:23.845874Z",
     "shell.execute_reply": "2022-02-16T09:59:24.886103Z"
    },
    "trusted": true
   },
   "execution_count": 21,
   "outputs": [
    {
     "data": {
      "text/plain": "<Figure size 1000x1000 with 14 Axes>",
      "image/png": "[encoded data removed]"
     },
     "metadata": {},
     "output_type": "display_data"
    }
   ]
  },
  {
   "cell_type": "code",
   "source": [
    "# unique, count = np.unique(y, return_counts=True)\n",
    "# figure = plt.figure(figsize=(20, 10))\n",
    "# sn.barplot(unique, count).set_title('Number of Images per Category')\n",
    "# plt.show()\n"
   ],
   "metadata": {
    "execution": {
     "iopub.status.busy": "2022-02-16T09:59:27.745851Z",
     "iopub.execute_input": "2022-02-16T09:59:27.746383Z",
     "iopub.status.idle": "2022-02-16T09:59:28.064267Z",
     "shell.execute_reply.started": "2022-02-16T09:59:27.746346Z",
     "shell.execute_reply": "2022-02-16T09:59:28.063395Z"
    },
    "trusted": true
   },
   "execution_count": 22,
   "outputs": []
  },
  {
   "cell_type": "code",
   "source": [
    "X = []\n",
    "for i in range(len(x)):\n",
    "#     print(i)\n",
    "    img = x[i]\n",
    "    img_gray = cv2.cvtColor(img, cv2.COLOR_BGR2GRAY)\n",
    "    threshold_image = cv2.threshold(img_gray, 0, 255, cv2.THRESH_BINARY_INV|cv2.THRESH_OTSU)[1]\n",
    "    threshold_image = cv2.resize(threshold_image, (32, 32))\n",
    "    X.append(threshold_image)\n",
    "print(len(X))\n"
   ],
   "metadata": {
    "execution": {
     "iopub.status.busy": "2022-02-16T09:59:31.639054Z",
     "iopub.execute_input": "2022-02-16T09:59:31.639611Z",
     "iopub.status.idle": "2022-02-16T09:59:32.613244Z",
     "shell.execute_reply.started": "2022-02-16T09:59:31.639572Z",
     "shell.execute_reply": "2022-02-16T09:59:32.612015Z"
    },
    "trusted": true
   },
   "execution_count": 23,
   "outputs": [
    {
     "name": "stdout",
     "output_type": "stream",
     "text": [
      "7600\n"
     ]
    }
   ]
  },
  {
   "cell_type": "code",
   "source": [
    "label_encoder = LabelEncoder()\n",
    "y = label_encoder.fit_transform(y)\n",
    "print(len(y))\n"
   ],
   "metadata": {
    "execution": {
     "iopub.status.busy": "2022-02-16T09:59:36.319010Z",
     "iopub.execute_input": "2022-02-16T09:59:36.320123Z",
     "iopub.status.idle": "2022-02-16T09:59:36.329272Z",
     "shell.execute_reply.started": "2022-02-16T09:59:36.320071Z",
     "shell.execute_reply": "2022-02-16T09:59:36.328043Z"
    },
    "trusted": true
   },
   "execution_count": 24,
   "outputs": [
    {
     "name": "stdout",
     "output_type": "stream",
     "text": [
      "7600\n"
     ]
    }
   ]
  },
  {
   "cell_type": "code",
   "source": [
    "X_train, X_test, Y_train, Y_test = train_test_split(X, y, test_size=0.2)\n"
   ],
   "metadata": {
    "execution": {
     "iopub.status.busy": "2022-02-16T09:59:38.176124Z",
     "iopub.execute_input": "2022-02-16T09:59:38.176449Z",
     "iopub.status.idle": "2022-02-16T09:59:38.185124Z",
     "shell.execute_reply.started": "2022-02-16T09:59:38.176415Z",
     "shell.execute_reply": "2022-02-16T09:59:38.183936Z"
    },
    "trusted": true
   },
   "execution_count": 25,
   "outputs": []
  },
  {
   "cell_type": "code",
   "source": [
    "unique_train, count_train = np.unique(Y_train, return_counts=True)\n",
    "figure = plt.figure(figsize=(20, 10))\n",
    "sn.barplot(unique_train, count_train).set_title('Number of Images per category in Train Set')\n",
    "plt.show()\n"
   ],
   "metadata": {
    "execution": {
     "iopub.status.busy": "2022-02-16T09:59:39.985611Z",
     "iopub.execute_input": "2022-02-16T09:59:39.985930Z",
     "iopub.status.idle": "2022-02-16T09:59:40.292397Z",
     "shell.execute_reply.started": "2022-02-16T09:59:39.985880Z",
     "shell.execute_reply": "2022-02-16T09:59:40.291444Z"
    },
    "trusted": true
   },
   "execution_count": 26,
   "outputs": [
    {
     "ename": "TypeError",
     "evalue": "barplot() takes from 0 to 1 positional arguments but 2 were given",
     "output_type": "error",
     "traceback": [
      "\u001B[0;31m---------------------------------------------------------------------------\u001B[0m",
      "\u001B[0;31mTypeError\u001B[0m                                 Traceback (most recent call last)",
      "Cell \u001B[0;32mIn [26], line 3\u001B[0m\n\u001B[1;32m      1\u001B[0m unique_train, count_train \u001B[38;5;241m=\u001B[39m np\u001B[38;5;241m.\u001B[39munique(Y_train, return_counts\u001B[38;5;241m=\u001B[39m\u001B[38;5;28;01mTrue\u001B[39;00m)\n\u001B[1;32m      2\u001B[0m figure \u001B[38;5;241m=\u001B[39m plt\u001B[38;5;241m.\u001B[39mfigure(figsize\u001B[38;5;241m=\u001B[39m(\u001B[38;5;241m20\u001B[39m, \u001B[38;5;241m10\u001B[39m))\n\u001B[0;32m----> 3\u001B[0m \u001B[43msn\u001B[49m\u001B[38;5;241;43m.\u001B[39;49m\u001B[43mbarplot\u001B[49m\u001B[43m(\u001B[49m\u001B[43munique_train\u001B[49m\u001B[43m,\u001B[49m\u001B[43m \u001B[49m\u001B[43mcount_train\u001B[49m\u001B[43m)\u001B[49m\u001B[38;5;241m.\u001B[39mset_title(\u001B[38;5;124m'\u001B[39m\u001B[38;5;124mNumber of Images per category in Train Set\u001B[39m\u001B[38;5;124m'\u001B[39m)\n\u001B[1;32m      4\u001B[0m plt\u001B[38;5;241m.\u001B[39mshow()\n",
      "\u001B[0;31mTypeError\u001B[0m: barplot() takes from 0 to 1 positional arguments but 2 were given"
     ]
    },
    {
     "data": {
      "text/plain": "<Figure size 2000x1000 with 0 Axes>"
     },
     "metadata": {},
     "output_type": "display_data"
    }
   ]
  },
  {
   "cell_type": "code",
   "source": [
    "unique_test, count_test = np.unique(Y_test, return_counts=True)\n",
    "figure = plt.figure(figsize=(20, 10))\n",
    "sn.barplot(unique_test, count_test).set_title('Number of Images per category in Test Set')\n",
    "plt.show()\n"
   ],
   "metadata": {
    "execution": {
     "iopub.status.busy": "2022-02-16T09:59:43.706905Z",
     "iopub.execute_input": "2022-02-16T09:59:43.707693Z",
     "iopub.status.idle": "2022-02-16T09:59:44.014363Z",
     "shell.execute_reply.started": "2022-02-16T09:59:43.707656Z",
     "shell.execute_reply": "2022-02-16T09:59:44.013423Z"
    },
    "trusted": true
   },
   "execution_count": null,
   "outputs": []
  },
  {
   "cell_type": "code",
   "source": [
    "X_train = np.array(X_train)\n",
    "X_test = np.array(X_test)\n",
    "Y_train = np.array(Y_train)\n",
    "Y_test = np.array(Y_test)\n",
    "\n",
    "Y_train = to_categorical(Y_train)\n",
    "Y_test = to_categorical(Y_test)\n",
    "X_train = np.expand_dims(X_train, axis=-1)\n",
    "X_test = np.expand_dims(X_test, axis=-1)\n",
    "X_train = X_train/255.\n",
    "X_test = X_test/255.\n",
    "\n",
    "print(X_train.shape)\n",
    "print(X_test.shape)\n",
    "print(Y_train.shape)\n",
    "print(Y_test.shape)\n"
   ],
   "metadata": {
    "execution": {
     "iopub.status.busy": "2022-02-16T09:59:45.594354Z",
     "iopub.execute_input": "2022-02-16T09:59:45.594671Z",
     "iopub.status.idle": "2022-02-16T09:59:45.641911Z",
     "shell.execute_reply.started": "2022-02-16T09:59:45.594636Z",
     "shell.execute_reply": "2022-02-16T09:59:45.640813Z"
    },
    "trusted": true
   },
   "execution_count": null,
   "outputs": []
  },
  {
   "cell_type": "code",
   "source": [
    "def math_symbol_and_digits_recognition(input_shape=(32, 32, 1)):\n",
    "    regularizer = l2(0.01)\n",
    "    model = Sequential()\n",
    "    model.add(Input(shape=input_shape))\n",
    "    model.add(Conv2D(32, (3, 3), strides=(1, 1), padding='same', \n",
    "                     kernel_initializer=glorot_uniform(seed=0), \n",
    "                     name='conv1', activity_regularizer=regularizer))\n",
    "    model.add(Activation(activation='relu', name='act1'))\n",
    "    model.add(MaxPool2D((2, 2), strides=(2, 2)))\n",
    "    model.add(Conv2D(32, (3, 3), strides=(1, 1), padding='same', \n",
    "                     kernel_initializer=glorot_uniform(seed=0), \n",
    "                     name='conv2', activity_regularizer=regularizer))\n",
    "    model.add(Activation(activation='relu', name='act2'))\n",
    "    model.add(MaxPool2D((2, 2), strides=(2, 2)))\n",
    "    model.add(Conv2D(64, (3, 3), strides=(1, 1), padding='same', \n",
    "                     kernel_initializer=glorot_uniform(seed=0), \n",
    "                     name='conv3', activity_regularizer=regularizer))\n",
    "    model.add(Activation(activation='relu', name='act3'))\n",
    "    model.add(MaxPool2D((2, 2), strides=(2, 2)))\n",
    "    model.add(Flatten())\n",
    "    model.add(Dropout(0.5))\n",
    "    model.add(Dense(120, activation='relu', kernel_initializer=glorot_uniform(seed=0), name='fc1'))\n",
    "    model.add(Dense(84, activation='relu', kernel_initializer=glorot_uniform(seed=0), name='fc2'))\n",
    "    model.add(Dense(14, activation='softmax', kernel_initializer=glorot_uniform(seed=0), name='fc3'))\n",
    "    \n",
    "    optimizer = Adam()\n",
    "    model.compile(loss='categorical_crossentropy', optimizer=optimizer, metrics=['accuracy'])\n",
    "    return model\n"
   ],
   "metadata": {
    "execution": {
     "iopub.status.busy": "2022-02-16T09:59:49.492352Z",
     "iopub.execute_input": "2022-02-16T09:59:49.492652Z",
     "iopub.status.idle": "2022-02-16T09:59:49.507235Z",
     "shell.execute_reply.started": "2022-02-16T09:59:49.492621Z",
     "shell.execute_reply": "2022-02-16T09:59:49.506218Z"
    },
    "trusted": true
   },
   "execution_count": null,
   "outputs": []
  },
  {
   "cell_type": "code",
   "source": [
    "model = math_symbol_and_digits_recognition(input_shape=(32, 32, 1))\n",
    "model.summary()\n"
   ],
   "metadata": {
    "execution": {
     "iopub.status.busy": "2022-02-16T10:00:24.388976Z",
     "iopub.execute_input": "2022-02-16T10:00:24.389292Z",
     "iopub.status.idle": "2022-02-16T10:00:24.645606Z",
     "shell.execute_reply.started": "2022-02-16T10:00:24.389262Z",
     "shell.execute_reply": "2022-02-16T10:00:24.643882Z"
    },
    "trusted": true
   },
   "execution_count": null,
   "outputs": []
  },
  {
   "cell_type": "code",
   "source": [
    "def step_decay(epoch):\n",
    "    initial_learning_rate = 0.001\n",
    "    dropEvery = 10\n",
    "    factor = 0.5\n",
    "    lr = initial_learning_rate*(factor**np.floor((1 + epoch)/dropEvery))\n",
    "    return float(lr)\n",
    "\n",
    "checkpoint = ModelCheckpoint('maths_symbol_and_digits_recognition.h5', \n",
    "                             monitor='val_loss', save_best_only=True, \n",
    "                             verbose=1, mode='min')\n",
    "\n",
    "callbacks = [checkpoint, LearningRateScheduler(step_decay)]\n"
   ],
   "metadata": {
    "execution": {
     "iopub.status.busy": "2022-02-16T10:02:44.244744Z",
     "iopub.execute_input": "2022-02-16T10:02:44.245053Z",
     "iopub.status.idle": "2022-02-16T10:02:44.251578Z",
     "shell.execute_reply.started": "2022-02-16T10:02:44.245016Z",
     "shell.execute_reply": "2022-02-16T10:02:44.250571Z"
    },
    "trusted": true
   },
   "execution_count": null,
   "outputs": []
  },
  {
   "cell_type": "code",
   "source": [
    "aug = ImageDataGenerator(zoom_range=0.1,\n",
    "#                          rotation_range=5,\n",
    "                         width_shift_range=0.05,\n",
    "                         height_shift_range=0.05)\n",
    "hist = model.fit(aug.flow(X_train, Y_train, batch_size=128), batch_size=128, epochs=15, validation_data=(X_test, Y_test))\n",
    "# hist2 = model2.fit(X_train, Y_train, batch_size=128, epochs=100, validation_data=(X_test, Y_test), callbacks=callbacks)\n"
   ],
   "metadata": {
    "execution": {
     "iopub.status.busy": "2022-02-16T10:03:01.416131Z",
     "iopub.execute_input": "2022-02-16T10:03:01.416692Z",
     "iopub.status.idle": "2022-02-16T10:11:21.608492Z",
     "shell.execute_reply.started": "2022-02-16T10:03:01.416651Z",
     "shell.execute_reply": "2022-02-16T10:11:21.607543Z"
    },
    "trusted": true
   },
   "execution_count": null,
   "outputs": []
  },
  {
   "cell_type": "code",
   "source": [
    "figure = plt.figure(figsize=(10, 10))\n",
    "plt.plot(hist.history['accuracy'], label='Train Set Accuracy')\n",
    "plt.plot(hist.history['val_accuracy'], label='Test Set Accuracy')\n",
    "plt.title('Accuracy Plot')\n",
    "plt.xlabel('Epochs')\n",
    "plt.ylabel('Accuracy')\n",
    "plt.legend(loc='upper right')\n",
    "plt.show()\n",
    "\n",
    "figure2 = plt.figure(figsize=(10, 10))\n",
    "plt.plot(hist.history['loss'], label='Train Set Loss')\n",
    "plt.plot(hist.history['val_loss'], label='Test Set Loss')\n",
    "plt.title('Loss Plot')\n",
    "plt.xlabel('Epochs')\n",
    "plt.ylabel('Loss Value')\n",
    "plt.legend(loc='upper right')\n",
    "plt.show()\n"
   ],
   "metadata": {
    "execution": {
     "iopub.status.busy": "2022-02-16T10:11:30.686333Z",
     "iopub.execute_input": "2022-02-16T10:11:30.686638Z",
     "iopub.status.idle": "2022-02-16T10:11:31.081698Z",
     "shell.execute_reply.started": "2022-02-16T10:11:30.686608Z",
     "shell.execute_reply": "2022-02-16T10:11:31.080734Z"
    },
    "trusted": true
   },
   "execution_count": null,
   "outputs": []
  },
  {
   "cell_type": "code",
   "source": [
    "ypred = model.predict(X_test)\n",
    "ypred = np.argmax(ypred, axis=1)\n",
    "Y_test_hat = np.argmax(Y_test, axis=1)\n",
    "print(classification_report(Y_test_hat, ypred))\n"
   ],
   "metadata": {
    "execution": {
     "iopub.status.busy": "2022-02-16T10:11:45.519537Z",
     "iopub.execute_input": "2022-02-16T10:11:45.520329Z",
     "iopub.status.idle": "2022-02-16T10:11:45.992167Z",
     "shell.execute_reply.started": "2022-02-16T10:11:45.520272Z",
     "shell.execute_reply": "2022-02-16T10:11:45.991272Z"
    },
    "trusted": true
   },
   "execution_count": null,
   "outputs": []
  },
  {
   "cell_type": "code",
   "source": [
    "model.save('model.h5')\n"
   ],
   "metadata": {
    "execution": {
     "iopub.status.busy": "2022-02-16T10:11:51.661317Z",
     "iopub.execute_input": "2022-02-16T10:11:51.662082Z",
     "iopub.status.idle": "2022-02-16T10:11:51.716566Z",
     "shell.execute_reply.started": "2022-02-16T10:11:51.662035Z",
     "shell.execute_reply": "2022-02-16T10:11:51.715554Z"
    },
    "trusted": true
   },
   "execution_count": null,
   "outputs": []
  },
  {
   "cell_type": "code",
   "source": [],
   "metadata": {},
   "execution_count": null,
   "outputs": []
  },
  {
   "cell_type": "code",
   "source": [],
   "metadata": {},
   "execution_count": null,
   "outputs": []
  },
  {
   "cell_type": "code",
   "source": [],
   "metadata": {},
   "execution_count": null,
   "outputs": []
  },
  {
   "cell_type": "code",
   "source": [],
   "metadata": {},
   "execution_count": null,
   "outputs": []
  },
  {
   "cell_type": "code",
   "source": [],
   "metadata": {},
   "execution_count": null,
   "outputs": []
  },
  {
   "cell_type": "code",
   "source": [],
   "metadata": {},
   "execution_count": null,
   "outputs": []
  },
  {
   "cell_type": "code",
   "source": [],
   "metadata": {},
   "execution_count": null,
   "outputs": []
  }
 ]
}
