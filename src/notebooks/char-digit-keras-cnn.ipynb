{
 "cells": [
  {
   "cell_type": "code",
   "execution_count": 23,
   "id": "1886aaac",
   "metadata": {
    "_cell_guid": "b1076dfc-b9ad-4769-8c92-a6c4dae69d19",
    "_uuid": "8f2839f25d086af736a60e9eeb907d3b93b6e0e5",
    "execution": {
     "iopub.execute_input": "2022-09-11T13:33:12.677638Z",
     "iopub.status.busy": "2022-09-11T13:33:12.676843Z",
     "iopub.status.idle": "2022-09-11T13:33:18.855400Z",
     "shell.execute_reply": "2022-09-11T13:33:18.854469Z"
    },
    "papermill": {
     "duration": 6.189664,
     "end_time": "2022-09-11T13:33:18.857980",
     "exception": false,
     "start_time": "2022-09-11T13:33:12.668316",
     "status": "completed"
    },
    "tags": []
   },
   "outputs": [],
   "source": [
    "# Import modules\n",
    "import numpy as np\n",
    "import pandas as pd\n",
    "import matplotlib.pyplot as plt\n",
    "\n",
    "from sklearn.model_selection import train_test_split\n",
    "import cv2\n",
    "\n",
    "import tensorflow as tf\n",
    "from keras.models import Sequential\n",
    "from keras.layers import Dense, Dropout, Flatten\n",
    "from keras.layers import Conv2D, MaxPooling2D\n",
    "from keras.utils import np_utils\n",
    "import sklearn.metrics as metrics"
   ]
  },
  {
   "cell_type": "code",
   "execution_count": 24,
   "id": "b767617b",
   "metadata": {
    "execution": {
     "iopub.execute_input": "2022-09-11T13:33:18.872641Z",
     "iopub.status.busy": "2022-09-11T13:33:18.870973Z",
     "iopub.status.idle": "2022-09-11T13:33:19.218765Z",
     "shell.execute_reply": "2022-09-11T13:33:19.217839Z"
    },
    "papermill": {
     "duration": 0.356805,
     "end_time": "2022-09-11T13:33:19.221042",
     "exception": false,
     "start_time": "2022-09-11T13:33:18.864237",
     "status": "completed"
    },
    "tags": []
   },
   "outputs": [],
   "source": [
    "from tensorflow.keras.callbacks import EarlyStopping, ReduceLROnPlateau,ModelCheckpoint"
   ]
  },
  {
   "cell_type": "code",
   "execution_count": 25,
   "id": "edc42aae",
   "metadata": {
    "_uuid": "b9de95e8cefcdcef4e7042d367037d7c67750cf8",
    "execution": {
     "iopub.execute_input": "2022-09-11T13:33:19.234397Z",
     "iopub.status.busy": "2022-09-11T13:33:19.233489Z",
     "iopub.status.idle": "2022-09-11T13:33:28.726964Z",
     "shell.execute_reply": "2022-09-11T13:33:28.725851Z"
    },
    "papermill": {
     "duration": 9.502091,
     "end_time": "2022-09-11T13:33:28.729080",
     "exception": false,
     "start_time": "2022-09-11T13:33:19.226989",
     "status": "completed"
    },
    "tags": []
   },
   "outputs": [
    {
     "name": "stdout",
     "output_type": "stream",
     "text": [
      "(112799, 785) (18799, 785)\n",
      "Train: (112799, 785), Test: (18799, 785), Map: (47,)\n"
     ]
    },
    {
     "name": "stderr",
     "output_type": "stream",
     "text": [
      "/tmp/ipykernel_6624/521008479.py:4: FutureWarning: The squeeze argument has been deprecated and will be removed in a future version. Append .squeeze(\"columns\") to the call to squeeze.\n",
      "\n",
      "\n",
      "  mapp = pd.read_csv(\"../data/emnist/archive/emnist-balanced-mapping.txt\", delimiter = ' ', \\\n"
     ]
    }
   ],
   "source": [
    "train = pd.read_csv(\"../data/emnist/archive/emnist-balanced-train.csv\")\n",
    "test = pd.read_csv(\"../data/emnist/archive/emnist-balanced-test.csv\")\n",
    "print(train.shape,test.shape)\n",
    "mapp = pd.read_csv(\"../data/emnist/archive/emnist-balanced-mapping.txt\", delimiter = ' ', \\\n",
    "                   index_col=0, header=None, squeeze=True)\n",
    "print(\"Train: %s, Test: %s, Map: %s\" %(train.shape, test.shape, mapp.shape))"
   ]
  },
  {
   "cell_type": "code",
   "execution_count": 5,
   "id": "6c68c527",
   "metadata": {
    "execution": {
     "iopub.execute_input": "2022-09-11T13:33:28.742394Z",
     "iopub.status.busy": "2022-09-11T13:33:28.742107Z",
     "iopub.status.idle": "2022-09-11T13:33:28.762779Z",
     "shell.execute_reply": "2022-09-11T13:33:28.761748Z"
    },
    "papermill": {
     "duration": 0.030037,
     "end_time": "2022-09-11T13:33:28.765324",
     "exception": false,
     "start_time": "2022-09-11T13:33:28.735287",
     "status": "completed"
    },
    "tags": []
   },
   "outputs": [
    {
     "data": {
      "text/plain": "   45  0  0.1  0.2  0.3  0.4  0.5  0.6  0.7  0.8  ...  0.524  0.525  0.526  \\\n0  36  0    0    0    0    0    0    0    0    0  ...      0      0      0   \n1  43  0    0    0    0    0    0    0    0    0  ...      0      0      0   \n2  15  0    0    0    0    0    0    0    0    0  ...      0      0      0   \n3   4  0    0    0    0    0    0    0    0    0  ...      0      0      0   \n4  42  0    0    0    0    0    0    0    0    0  ...      0      0      0   \n5  26  0    0    0    0    0    0    0    0    0  ...      0      0      0   \n6  32  0    0    0    0    0    0    0    0    0  ...      0      0      0   \n7  20  0    0    0    0    0    0    0    0    0  ...      0      0      0   \n8   1  0    0    0    0    0    0    0    0    0  ...      0      0      0   \n9  46  0    0    0    0    0    0    0    0    0  ...      0      0      0   \n\n   0.527  0.528  0.529  0.530  0.531  0.532  0.533  \n0      0      0      0      0      0      0      0  \n1      0      0      0      0      0      0      0  \n2      0      0      0      0      0      0      0  \n3      0      0      0      0      0      0      0  \n4      0      0      0      0      0      0      0  \n5      0      0      0      0      0      0      0  \n6      0      0      0      0      0      0      0  \n7      0      0      0      0      0      0      0  \n8      0      0      0      0      0      0      0  \n9      0      0      0      0      0      0      0  \n\n[10 rows x 785 columns]",
      "text/html": "<div>\n<style scoped>\n    .dataframe tbody tr th:only-of-type {\n        vertical-align: middle;\n    }\n\n    .dataframe tbody tr th {\n        vertical-align: top;\n    }\n\n    .dataframe thead th {\n        text-align: right;\n    }\n</style>\n<table border=\"1\" class=\"dataframe\">\n  <thead>\n    <tr style=\"text-align: right;\">\n      <th></th>\n      <th>45</th>\n      <th>0</th>\n      <th>0.1</th>\n      <th>0.2</th>\n      <th>0.3</th>\n      <th>0.4</th>\n      <th>0.5</th>\n      <th>0.6</th>\n      <th>0.7</th>\n      <th>0.8</th>\n      <th>...</th>\n      <th>0.524</th>\n      <th>0.525</th>\n      <th>0.526</th>\n      <th>0.527</th>\n      <th>0.528</th>\n      <th>0.529</th>\n      <th>0.530</th>\n      <th>0.531</th>\n      <th>0.532</th>\n      <th>0.533</th>\n    </tr>\n  </thead>\n  <tbody>\n    <tr>\n      <th>0</th>\n      <td>36</td>\n      <td>0</td>\n      <td>0</td>\n      <td>0</td>\n      <td>0</td>\n      <td>0</td>\n      <td>0</td>\n      <td>0</td>\n      <td>0</td>\n      <td>0</td>\n      <td>...</td>\n      <td>0</td>\n      <td>0</td>\n      <td>0</td>\n      <td>0</td>\n      <td>0</td>\n      <td>0</td>\n      <td>0</td>\n      <td>0</td>\n      <td>0</td>\n      <td>0</td>\n    </tr>\n    <tr>\n      <th>1</th>\n      <td>43</td>\n      <td>0</td>\n      <td>0</td>\n      <td>0</td>\n      <td>0</td>\n      <td>0</td>\n      <td>0</td>\n      <td>0</td>\n      <td>0</td>\n      <td>0</td>\n      <td>...</td>\n      <td>0</td>\n      <td>0</td>\n      <td>0</td>\n      <td>0</td>\n      <td>0</td>\n      <td>0</td>\n      <td>0</td>\n      <td>0</td>\n      <td>0</td>\n      <td>0</td>\n    </tr>\n    <tr>\n      <th>2</th>\n      <td>15</td>\n      <td>0</td>\n      <td>0</td>\n      <td>0</td>\n      <td>0</td>\n      <td>0</td>\n      <td>0</td>\n      <td>0</td>\n      <td>0</td>\n      <td>0</td>\n      <td>...</td>\n      <td>0</td>\n      <td>0</td>\n      <td>0</td>\n      <td>0</td>\n      <td>0</td>\n      <td>0</td>\n      <td>0</td>\n      <td>0</td>\n      <td>0</td>\n      <td>0</td>\n    </tr>\n    <tr>\n      <th>3</th>\n      <td>4</td>\n      <td>0</td>\n      <td>0</td>\n      <td>0</td>\n      <td>0</td>\n      <td>0</td>\n      <td>0</td>\n      <td>0</td>\n      <td>0</td>\n      <td>0</td>\n      <td>...</td>\n      <td>0</td>\n      <td>0</td>\n      <td>0</td>\n      <td>0</td>\n      <td>0</td>\n      <td>0</td>\n      <td>0</td>\n      <td>0</td>\n      <td>0</td>\n      <td>0</td>\n    </tr>\n    <tr>\n      <th>4</th>\n      <td>42</td>\n      <td>0</td>\n      <td>0</td>\n      <td>0</td>\n      <td>0</td>\n      <td>0</td>\n      <td>0</td>\n      <td>0</td>\n      <td>0</td>\n      <td>0</td>\n      <td>...</td>\n      <td>0</td>\n      <td>0</td>\n      <td>0</td>\n      <td>0</td>\n      <td>0</td>\n      <td>0</td>\n      <td>0</td>\n      <td>0</td>\n      <td>0</td>\n      <td>0</td>\n    </tr>\n    <tr>\n      <th>5</th>\n      <td>26</td>\n      <td>0</td>\n      <td>0</td>\n      <td>0</td>\n      <td>0</td>\n      <td>0</td>\n      <td>0</td>\n      <td>0</td>\n      <td>0</td>\n      <td>0</td>\n      <td>...</td>\n      <td>0</td>\n      <td>0</td>\n      <td>0</td>\n      <td>0</td>\n      <td>0</td>\n      <td>0</td>\n      <td>0</td>\n      <td>0</td>\n      <td>0</td>\n      <td>0</td>\n    </tr>\n    <tr>\n      <th>6</th>\n      <td>32</td>\n      <td>0</td>\n      <td>0</td>\n      <td>0</td>\n      <td>0</td>\n      <td>0</td>\n      <td>0</td>\n      <td>0</td>\n      <td>0</td>\n      <td>0</td>\n      <td>...</td>\n      <td>0</td>\n      <td>0</td>\n      <td>0</td>\n      <td>0</td>\n      <td>0</td>\n      <td>0</td>\n      <td>0</td>\n      <td>0</td>\n      <td>0</td>\n      <td>0</td>\n    </tr>\n    <tr>\n      <th>7</th>\n      <td>20</td>\n      <td>0</td>\n      <td>0</td>\n      <td>0</td>\n      <td>0</td>\n      <td>0</td>\n      <td>0</td>\n      <td>0</td>\n      <td>0</td>\n      <td>0</td>\n      <td>...</td>\n      <td>0</td>\n      <td>0</td>\n      <td>0</td>\n      <td>0</td>\n      <td>0</td>\n      <td>0</td>\n      <td>0</td>\n      <td>0</td>\n      <td>0</td>\n      <td>0</td>\n    </tr>\n    <tr>\n      <th>8</th>\n      <td>1</td>\n      <td>0</td>\n      <td>0</td>\n      <td>0</td>\n      <td>0</td>\n      <td>0</td>\n      <td>0</td>\n      <td>0</td>\n      <td>0</td>\n      <td>0</td>\n      <td>...</td>\n      <td>0</td>\n      <td>0</td>\n      <td>0</td>\n      <td>0</td>\n      <td>0</td>\n      <td>0</td>\n      <td>0</td>\n      <td>0</td>\n      <td>0</td>\n      <td>0</td>\n    </tr>\n    <tr>\n      <th>9</th>\n      <td>46</td>\n      <td>0</td>\n      <td>0</td>\n      <td>0</td>\n      <td>0</td>\n      <td>0</td>\n      <td>0</td>\n      <td>0</td>\n      <td>0</td>\n      <td>0</td>\n      <td>...</td>\n      <td>0</td>\n      <td>0</td>\n      <td>0</td>\n      <td>0</td>\n      <td>0</td>\n      <td>0</td>\n      <td>0</td>\n      <td>0</td>\n      <td>0</td>\n      <td>0</td>\n    </tr>\n  </tbody>\n</table>\n<p>10 rows × 785 columns</p>\n</div>"
     },
     "execution_count": 5,
     "metadata": {},
     "output_type": "execute_result"
    }
   ],
   "source": [
    "train.head(10)"
   ]
  },
  {
   "cell_type": "code",
   "execution_count": 26,
   "id": "483c1d38",
   "metadata": {
    "_uuid": "af42aed88241eb6f48f66ebb116f12991845acb7",
    "execution": {
     "iopub.execute_input": "2022-09-11T13:33:28.779011Z",
     "iopub.status.busy": "2022-09-11T13:33:28.778322Z",
     "iopub.status.idle": "2022-09-11T13:33:28.782940Z",
     "shell.execute_reply": "2022-09-11T13:33:28.782087Z"
    },
    "papermill": {
     "duration": 0.013573,
     "end_time": "2022-09-11T13:33:28.784981",
     "exception": false,
     "start_time": "2022-09-11T13:33:28.771408",
     "status": "completed"
    },
    "tags": []
   },
   "outputs": [],
   "source": [
    "# Constants\n",
    "HEIGHT = 28\n",
    "WIDTH = 28"
   ]
  },
  {
   "cell_type": "code",
   "execution_count": 27,
   "id": "1b32f0a6",
   "metadata": {
    "_uuid": "cd1f2f13152b22618bab3c81de05bcad638d14da",
    "execution": {
     "iopub.execute_input": "2022-09-11T13:33:28.798650Z",
     "iopub.status.busy": "2022-09-11T13:33:28.798060Z",
     "iopub.status.idle": "2022-09-11T13:33:28.803880Z",
     "shell.execute_reply": "2022-09-11T13:33:28.802982Z"
    },
    "papermill": {
     "duration": 0.014887,
     "end_time": "2022-09-11T13:33:28.805949",
     "exception": false,
     "start_time": "2022-09-11T13:33:28.791062",
     "status": "completed"
    },
    "tags": []
   },
   "outputs": [],
   "source": [
    "# Split x and y\n",
    "train_x = train.iloc[:,1:]\n",
    "train_y = train.iloc[:,0]\n",
    "del train\n",
    "\n",
    "test_x = test.iloc[:,1:]\n",
    "test_y = test.iloc[:,0]\n",
    "del test"
   ]
  },
  {
   "cell_type": "code",
   "execution_count": 28,
   "id": "141527eb",
   "metadata": {
    "_uuid": "68ca0190a5f89676d61e18703ce5cb946584f70e",
    "execution": {
     "iopub.execute_input": "2022-09-11T13:33:28.819201Z",
     "iopub.status.busy": "2022-09-11T13:33:28.818863Z",
     "iopub.status.idle": "2022-09-11T13:33:28.825702Z",
     "shell.execute_reply": "2022-09-11T13:33:28.824832Z"
    },
    "papermill": {
     "duration": 0.015698,
     "end_time": "2022-09-11T13:33:28.827708",
     "exception": false,
     "start_time": "2022-09-11T13:33:28.812010",
     "status": "completed"
    },
    "tags": []
   },
   "outputs": [
    {
     "name": "stdout",
     "output_type": "stream",
     "text": [
      "(112799, 784) (112799,) (18799, 784) (18799,)\n"
     ]
    }
   ],
   "source": [
    "print(train_x.shape,train_y.shape,test_x.shape,test_y.shape)"
   ]
  },
  {
   "cell_type": "code",
   "execution_count": 29,
   "id": "4db968c4",
   "metadata": {
    "_uuid": "d2b3cc6a0305996d1a884281cac4621560961d9f",
    "execution": {
     "iopub.execute_input": "2022-09-11T13:33:28.843224Z",
     "iopub.status.busy": "2022-09-11T13:33:28.841663Z",
     "iopub.status.idle": "2022-09-11T13:33:28.847627Z",
     "shell.execute_reply": "2022-09-11T13:33:28.846779Z"
    },
    "papermill": {
     "duration": 0.015867,
     "end_time": "2022-09-11T13:33:28.849634",
     "exception": false,
     "start_time": "2022-09-11T13:33:28.833767",
     "status": "completed"
    },
    "tags": []
   },
   "outputs": [],
   "source": [
    "def rotate(image):\n",
    "    image = image.reshape([HEIGHT, WIDTH])\n",
    "    image = np.fliplr(image)\n",
    "    image = np.rot90(image)\n",
    "    return image"
   ]
  },
  {
   "cell_type": "code",
   "execution_count": 30,
   "id": "b28fcc48",
   "metadata": {
    "_uuid": "552ac59745108ed31d39fe7400a9fa5f83c8949a",
    "execution": {
     "iopub.execute_input": "2022-09-11T13:33:28.863092Z",
     "iopub.status.busy": "2022-09-11T13:33:28.862828Z",
     "iopub.status.idle": "2022-09-11T13:33:31.370830Z",
     "shell.execute_reply": "2022-09-11T13:33:31.369570Z"
    },
    "papermill": {
     "duration": 2.516919,
     "end_time": "2022-09-11T13:33:31.372824",
     "exception": false,
     "start_time": "2022-09-11T13:33:28.855905",
     "status": "completed"
    },
    "tags": []
   },
   "outputs": [
    {
     "name": "stdout",
     "output_type": "stream",
     "text": [
      "train_x: (112799, 28, 28)\n",
      "test_x: (18799, 28, 28)\n"
     ]
    }
   ],
   "source": [
    "# Flip and rotate image\n",
    "train_x = np.asarray(train_x)\n",
    "train_x = np.apply_along_axis(rotate, 1, train_x)\n",
    "print (\"train_x:\",train_x.shape)\n",
    "\n",
    "test_x = np.asarray(test_x)\n",
    "test_x = np.apply_along_axis(rotate, 1, test_x)\n",
    "print (\"test_x:\",test_x.shape)"
   ]
  },
  {
   "cell_type": "code",
   "execution_count": 31,
   "id": "4357c5ac",
   "metadata": {
    "_uuid": "47dd7244f7a5e91bd1eff06667b0fa6ed77cc746",
    "execution": {
     "iopub.execute_input": "2022-09-11T13:33:31.387395Z",
     "iopub.status.busy": "2022-09-11T13:33:31.386477Z",
     "iopub.status.idle": "2022-09-11T13:33:31.631562Z",
     "shell.execute_reply": "2022-09-11T13:33:31.630541Z"
    },
    "papermill": {
     "duration": 0.254606,
     "end_time": "2022-09-11T13:33:31.633961",
     "exception": false,
     "start_time": "2022-09-11T13:33:31.379355",
     "status": "completed"
    },
    "tags": []
   },
   "outputs": [],
   "source": [
    "# Normalise\n",
    "train_x = train_x.astype('float32')\n",
    "train_x /= 255\n",
    "test_x = test_x.astype('float32')\n",
    "test_x /= 255\n"
   ]
  },
  {
   "cell_type": "code",
   "execution_count": 32,
   "id": "2507cef9",
   "metadata": {
    "_uuid": "2400b66e4a7cd0a35104cb8076cb6850fc20ece1",
    "execution": {
     "iopub.execute_input": "2022-09-11T13:33:31.648163Z",
     "iopub.status.busy": "2022-09-11T13:33:31.647544Z",
     "iopub.status.idle": "2022-09-11T13:33:32.367843Z",
     "shell.execute_reply": "2022-09-11T13:33:32.366827Z"
    },
    "papermill": {
     "duration": 0.729793,
     "end_time": "2022-09-11T13:33:32.370265",
     "exception": false,
     "start_time": "2022-09-11T13:33:31.640472",
     "status": "completed"
    },
    "tags": []
   },
   "outputs": [
    {
     "data": {
      "text/plain": "<Figure size 640x480 with 9 Axes>",
      "image/png": "[encoded data removed]"
     },
     "metadata": {},
     "output_type": "display_data"
    }
   ],
   "source": [
    "# plot image\n",
    "for i in range(100, 109):\n",
    "    plt.subplot(330 + (i+1))\n",
    "    plt.imshow(train_x[i], cmap=plt.get_cmap('gray'))\n",
    "    plt.title(chr(mapp[train_y[i]]))"
   ]
  },
  {
   "cell_type": "code",
   "execution_count": 33,
   "id": "f4f9801e",
   "metadata": {
    "_uuid": "9c148a5e8fc3c7ed58555af6a8960ff6c25f0543",
    "execution": {
     "iopub.execute_input": "2022-09-11T13:33:32.385176Z",
     "iopub.status.busy": "2022-09-11T13:33:32.384900Z",
     "iopub.status.idle": "2022-09-11T13:33:32.390198Z",
     "shell.execute_reply": "2022-09-11T13:33:32.389436Z"
    },
    "papermill": {
     "duration": 0.014791,
     "end_time": "2022-09-11T13:33:32.392223",
     "exception": false,
     "start_time": "2022-09-11T13:33:32.377432",
     "status": "completed"
    },
    "tags": []
   },
   "outputs": [],
   "source": [
    "# number of classes\n",
    "num_classes = train_y.nunique()"
   ]
  },
  {
   "cell_type": "code",
   "execution_count": 34,
   "id": "d075ba36",
   "metadata": {
    "execution": {
     "iopub.execute_input": "2022-09-11T13:33:32.406475Z",
     "iopub.status.busy": "2022-09-11T13:33:32.406196Z",
     "iopub.status.idle": "2022-09-11T13:33:32.410469Z",
     "shell.execute_reply": "2022-09-11T13:33:32.409568Z"
    },
    "papermill": {
     "duration": 0.013869,
     "end_time": "2022-09-11T13:33:32.412574",
     "exception": false,
     "start_time": "2022-09-11T13:33:32.398705",
     "status": "completed"
    },
    "tags": []
   },
   "outputs": [
    {
     "name": "stdout",
     "output_type": "stream",
     "text": [
      "47\n"
     ]
    }
   ],
   "source": [
    "print(num_classes)"
   ]
  },
  {
   "cell_type": "markdown",
   "id": "5edaf479",
   "metadata": {
    "papermill": {
     "duration": 0.006463,
     "end_time": "2022-09-11T13:33:32.425641",
     "exception": false,
     "start_time": "2022-09-11T13:33:32.419178",
     "status": "completed"
    },
    "tags": []
   },
   "source": [
    "this is to one hot encoding - so if char is a : then for a it will be a->1 and others 0.  E.g. for use with categorical_crossentropy"
   ]
  },
  {
   "cell_type": "code",
   "execution_count": 35,
   "id": "43c5613a",
   "metadata": {
    "_uuid": "6b58c75713f4d1eb74495b894ae4bc2dc78fcc9d",
    "execution": {
     "iopub.execute_input": "2022-09-11T13:33:32.440130Z",
     "iopub.status.busy": "2022-09-11T13:33:32.439595Z",
     "iopub.status.idle": "2022-09-11T13:33:32.451464Z",
     "shell.execute_reply": "2022-09-11T13:33:32.450453Z"
    },
    "papermill": {
     "duration": 0.021307,
     "end_time": "2022-09-11T13:33:32.453530",
     "exception": false,
     "start_time": "2022-09-11T13:33:32.432223",
     "status": "completed"
    },
    "tags": []
   },
   "outputs": [
    {
     "name": "stdout",
     "output_type": "stream",
     "text": [
      "train_y:  (112799, 47)\n",
      "test_y:  (18799, 47)\n"
     ]
    }
   ],
   "source": [
    "# One hot encoding\n",
    "train_y = np_utils.to_categorical(train_y, num_classes)\n",
    "test_y = np_utils.to_categorical(test_y, num_classes)\n",
    "print(\"train_y: \", train_y.shape)\n",
    "print(\"test_y: \", test_y.shape)"
   ]
  },
  {
   "cell_type": "markdown",
   "id": "08d845cb",
   "metadata": {
    "papermill": {
     "duration": 0.006474,
     "end_time": "2022-09-11T13:33:32.466714",
     "exception": false,
     "start_time": "2022-09-11T13:33:32.460240",
     "status": "completed"
    },
    "tags": []
   },
   "source": []
  },
  {
   "cell_type": "code",
   "execution_count": 36,
   "id": "164c86f3",
   "metadata": {
    "_uuid": "0076e512ae2b51571856206c59a52375e189b451",
    "execution": {
     "iopub.execute_input": "2022-09-11T13:33:32.481540Z",
     "iopub.status.busy": "2022-09-11T13:33:32.480731Z",
     "iopub.status.idle": "2022-09-11T13:33:32.485706Z",
     "shell.execute_reply": "2022-09-11T13:33:32.484871Z"
    },
    "papermill": {
     "duration": 0.01442,
     "end_time": "2022-09-11T13:33:32.487676",
     "exception": false,
     "start_time": "2022-09-11T13:33:32.473256",
     "status": "completed"
    },
    "tags": []
   },
   "outputs": [],
   "source": [
    "# Reshape image for CNN\n",
    "train_x = train_x.reshape(-1, HEIGHT, WIDTH, 1)\n",
    "test_x = test_x.reshape(-1, HEIGHT, WIDTH, 1)"
   ]
  },
  {
   "cell_type": "code",
   "execution_count": 37,
   "id": "c8ad9151",
   "metadata": {
    "execution": {
     "iopub.execute_input": "2022-09-11T13:33:32.502540Z",
     "iopub.status.busy": "2022-09-11T13:33:32.502255Z",
     "iopub.status.idle": "2022-09-11T13:33:32.507234Z",
     "shell.execute_reply": "2022-09-11T13:33:32.506184Z"
    },
    "papermill": {
     "duration": 0.015444,
     "end_time": "2022-09-11T13:33:32.510082",
     "exception": false,
     "start_time": "2022-09-11T13:33:32.494638",
     "status": "completed"
    },
    "tags": []
   },
   "outputs": [
    {
     "name": "stdout",
     "output_type": "stream",
     "text": [
      "train:  (112799, 28, 28, 1) test:  (18799, 28, 28, 1)\n"
     ]
    }
   ],
   "source": [
    "print(\"train: \",train_x.shape,\"test: \",test_x.shape )"
   ]
  },
  {
   "cell_type": "code",
   "execution_count": 38,
   "id": "e0407b4e",
   "metadata": {
    "_uuid": "14ef5047de5bb2d88f0e2f99858d3ea27791e45e",
    "execution": {
     "iopub.execute_input": "2022-09-11T13:33:32.525615Z",
     "iopub.status.busy": "2022-09-11T13:33:32.525091Z",
     "iopub.status.idle": "2022-09-11T13:33:32.659428Z",
     "shell.execute_reply": "2022-09-11T13:33:32.658465Z"
    },
    "papermill": {
     "duration": 0.1443,
     "end_time": "2022-09-11T13:33:32.661883",
     "exception": false,
     "start_time": "2022-09-11T13:33:32.517583",
     "status": "completed"
    },
    "tags": []
   },
   "outputs": [],
   "source": [
    "# partition to train and val\n",
    "train_x, val_x, train_y, val_y = train_test_split(train_x, train_y, test_size= 0.20, random_state=7)"
   ]
  },
  {
   "cell_type": "code",
   "execution_count": 39,
   "id": "25f117c3",
   "metadata": {
    "_uuid": "6ae9d2f48b1258ca44b83bf6c410e55b2b323a23",
    "execution": {
     "iopub.execute_input": "2022-09-11T13:33:32.677517Z",
     "iopub.status.busy": "2022-09-11T13:33:32.676697Z",
     "iopub.status.idle": "2022-09-11T13:33:35.398394Z",
     "shell.execute_reply": "2022-09-11T13:33:35.394760Z"
    },
    "papermill": {
     "duration": 2.731557,
     "end_time": "2022-09-11T13:33:35.400531",
     "exception": false,
     "start_time": "2022-09-11T13:33:32.668974",
     "status": "completed"
    },
    "tags": []
   },
   "outputs": [
    {
     "name": "stdout",
     "output_type": "stream",
     "text": [
      "Model: \"sequential_1\"\n",
      "_________________________________________________________________\n",
      " Layer (type)                Output Shape              Param #   \n",
      "=================================================================\n",
      " conv2d_2 (Conv2D)           (None, 28, 28, 128)       3328      \n",
      "                                                                 \n",
      " max_pooling2d_2 (MaxPooling  (None, 14, 14, 128)      0         \n",
      " 2D)                                                             \n",
      "                                                                 \n",
      " conv2d_3 (Conv2D)           (None, 14, 14, 64)        73792     \n",
      "                                                                 \n",
      " max_pooling2d_3 (MaxPooling  (None, 7, 7, 64)         0         \n",
      " 2D)                                                             \n",
      "                                                                 \n",
      " flatten_1 (Flatten)         (None, 3136)              0         \n",
      "                                                                 \n",
      " dense_2 (Dense)             (None, 128)               401536    \n",
      "                                                                 \n",
      " dropout_1 (Dropout)         (None, 128)               0         \n",
      "                                                                 \n",
      " dense_3 (Dense)             (None, 47)                6063      \n",
      "                                                                 \n",
      "=================================================================\n",
      "Total params: 484,719\n",
      "Trainable params: 484,719\n",
      "Non-trainable params: 0\n",
      "_________________________________________________________________\n"
     ]
    }
   ],
   "source": [
    "# Building model\n",
    "# ((Si - Fi + 2P)/S) + 1\n",
    "model = Sequential()\n",
    "\n",
    "model.add(Conv2D(filters=128, kernel_size=(5,5), padding = 'same', activation='relu',\\\n",
    "                 input_shape=(HEIGHT, WIDTH,1)))\n",
    "model.add(MaxPooling2D(pool_size=(2,2), strides=(2,2)))\n",
    "model.add(Conv2D(filters=64, kernel_size=(3,3) , padding = 'same', activation='relu'))\n",
    "model.add(MaxPooling2D(pool_size=(2,2)))\n",
    "\n",
    "model.add(Flatten())\n",
    "model.add(Dense(units=128, activation='relu'))\n",
    "model.add(Dropout(.5))\n",
    "model.add(Dense(units=num_classes, activation='softmax'))\n",
    "\n",
    "model.summary()"
   ]
  },
  {
   "cell_type": "code",
   "execution_count": 44,
   "id": "8b0979a1",
   "metadata": {
    "_uuid": "f9ff3ca9a74b8a08d21ab706a79e8e583735f009",
    "execution": {
     "iopub.execute_input": "2022-09-11T13:33:35.416897Z",
     "iopub.status.busy": "2022-09-11T13:33:35.416094Z",
     "iopub.status.idle": "2022-09-11T13:33:35.426654Z",
     "shell.execute_reply": "2022-09-11T13:33:35.425815Z"
    },
    "papermill": {
     "duration": 0.020506,
     "end_time": "2022-09-11T13:33:35.428648",
     "exception": false,
     "start_time": "2022-09-11T13:33:35.408142",
     "status": "completed"
    },
    "tags": []
   },
   "outputs": [],
   "source": [
    "model.compile(loss='categorical_crossentropy', optimizer='adam', metrics=['accuracy'])"
   ]
  },
  {
   "cell_type": "code",
   "execution_count": 45,
   "id": "0995f156",
   "metadata": {
    "execution": {
     "iopub.execute_input": "2022-09-11T13:33:35.444661Z",
     "iopub.status.busy": "2022-09-11T13:33:35.443278Z",
     "iopub.status.idle": "2022-09-11T13:33:35.448952Z",
     "shell.execute_reply": "2022-09-11T13:33:35.448104Z"
    },
    "papermill": {
     "duration": 0.015137,
     "end_time": "2022-09-11T13:33:35.450850",
     "exception": false,
     "start_time": "2022-09-11T13:33:35.435713",
     "status": "completed"
    },
    "tags": []
   },
   "outputs": [],
   "source": [
    "MCP = ModelCheckpoint('Best_points.h5',verbose=1,save_best_only=True,monitor='val_accuracy',mode='max')\n",
    "ES = EarlyStopping(monitor='val_accuracy',min_delta=0,verbose=0,patience=3,mode='max')\n",
    "RLP = ReduceLROnPlateau(monitor='val_loss',patience=3,factor=0.2,min_lr=0.0001)"
   ]
  },
  {
   "cell_type": "code",
   "execution_count": 46,
   "id": "294b3128",
   "metadata": {
    "_uuid": "adcaad4c00a7f0de08585394587699b62fa2b6e3",
    "execution": {
     "iopub.execute_input": "2022-09-11T13:33:35.465777Z",
     "iopub.status.busy": "2022-09-11T13:33:35.465521Z",
     "iopub.status.idle": "2022-09-11T13:34:27.170270Z",
     "shell.execute_reply": "2022-09-11T13:34:27.168438Z"
    },
    "papermill": {
     "duration": 51.715361,
     "end_time": "2022-09-11T13:34:27.173068",
     "exception": false,
     "start_time": "2022-09-11T13:33:35.457707",
     "status": "completed"
    },
    "tags": []
   },
   "outputs": [
    {
     "name": "stdout",
     "output_type": "stream",
     "text": [
      "Epoch 1/5\n",
      "177/177 [==============================] - ETA: 0s - loss: 1.7199 - accuracy: 0.5130\n",
      "Epoch 1: val_accuracy improved from -inf to 0.80559, saving model to Best_points.h5\n",
      "177/177 [==============================] - 75s 421ms/step - loss: 1.7199 - accuracy: 0.5130 - val_loss: 0.6125 - val_accuracy: 0.8056 - lr: 0.0010\n",
      "Epoch 2/5\n",
      "177/177 [==============================] - ETA: 0s - loss: 0.8328 - accuracy: 0.7371\n",
      "Epoch 2: val_accuracy improved from 0.80559 to 0.83617, saving model to Best_points.h5\n",
      "177/177 [==============================] - 72s 409ms/step - loss: 0.8328 - accuracy: 0.7371 - val_loss: 0.4854 - val_accuracy: 0.8362 - lr: 0.0010\n",
      "Epoch 3/5\n",
      "177/177 [==============================] - ETA: 0s - loss: 0.6801 - accuracy: 0.7821\n",
      "Epoch 3: val_accuracy improved from 0.83617 to 0.85040, saving model to Best_points.h5\n",
      "177/177 [==============================] - 78s 439ms/step - loss: 0.6801 - accuracy: 0.7821 - val_loss: 0.4321 - val_accuracy: 0.8504 - lr: 0.0010\n",
      "Epoch 4/5\n",
      "177/177 [==============================] - ETA: 0s - loss: 0.6105 - accuracy: 0.8012\n",
      "Epoch 4: val_accuracy improved from 0.85040 to 0.85523, saving model to Best_points.h5\n",
      "177/177 [==============================] - 81s 457ms/step - loss: 0.6105 - accuracy: 0.8012 - val_loss: 0.4125 - val_accuracy: 0.8552 - lr: 0.0010\n",
      "Epoch 5/5\n",
      "177/177 [==============================] - ETA: 0s - loss: 0.5658 - accuracy: 0.8141\n",
      "Epoch 5: val_accuracy improved from 0.85523 to 0.86223, saving model to Best_points.h5\n",
      "177/177 [==============================] - 79s 449ms/step - loss: 0.5658 - accuracy: 0.8141 - val_loss: 0.3938 - val_accuracy: 0.8622 - lr: 0.0010\n"
     ]
    }
   ],
   "source": [
    "history = model.fit(train_x, train_y, epochs=5, batch_size=512, verbose=1, \\\n",
    "                    validation_data=(val_x, val_y),callbacks=[MCP,ES,RLP])"
   ]
  },
  {
   "cell_type": "code",
   "execution_count": 22,
   "id": "baa0f463",
   "metadata": {
    "_uuid": "a386da4ee6a425b653128bfcfd902b6c7cdb4fe9",
    "execution": {
     "iopub.execute_input": "2022-09-11T13:34:27.255202Z",
     "iopub.status.busy": "2022-09-11T13:34:27.254909Z",
     "iopub.status.idle": "2022-09-11T13:34:27.260844Z",
     "shell.execute_reply": "2022-09-11T13:34:27.259728Z"
    },
    "papermill": {
     "duration": 0.049436,
     "end_time": "2022-09-11T13:34:27.263009",
     "exception": false,
     "start_time": "2022-09-11T13:34:27.213573",
     "status": "completed"
    },
    "tags": []
   },
   "outputs": [],
   "source": [
    "# plot accuracy and loss\n",
    "def plotgraph(epochs, acc, val_acc,title):\n",
    "    # Plot training & validation accuracy values\n",
    "    plt.plot(epochs, acc, 'b')\n",
    "    plt.plot(epochs, val_acc, 'r')\n",
    "    plt.title('Model accuracy')\n",
    "    plt.ylabel(title)\n",
    "    plt.xlabel('Epoch')\n",
    "    plt.legend(['Train', 'Val'], loc='upper left')\n",
    "    plt.show()"
   ]
  },
  {
   "cell_type": "code",
   "execution_count": 47,
   "id": "f3a0f624",
   "metadata": {
    "_uuid": "bca0d2ce529a7f78ed990e24120d40050428383f",
    "execution": {
     "iopub.execute_input": "2022-09-11T13:34:27.342865Z",
     "iopub.status.busy": "2022-09-11T13:34:27.342589Z",
     "iopub.status.idle": "2022-09-11T13:34:27.347714Z",
     "shell.execute_reply": "2022-09-11T13:34:27.346669Z"
    },
    "papermill": {
     "duration": 0.047869,
     "end_time": "2022-09-11T13:34:27.349987",
     "exception": false,
     "start_time": "2022-09-11T13:34:27.302118",
     "status": "completed"
    },
    "tags": []
   },
   "outputs": [],
   "source": [
    "model.save('../models/model_char_degit.h5')"
   ]
  },
  {
   "cell_type": "code",
   "execution_count": 24,
   "id": "d669f770",
   "metadata": {
    "_uuid": "9d37b372916f3c8c38d181cb963bf6a973ef8af5",
    "execution": {
     "iopub.execute_input": "2022-09-11T13:34:27.429818Z",
     "iopub.status.busy": "2022-09-11T13:34:27.429273Z",
     "iopub.status.idle": "2022-09-11T13:34:27.627291Z",
     "shell.execute_reply": "2022-09-11T13:34:27.626357Z"
    },
    "papermill": {
     "duration": 0.240694,
     "end_time": "2022-09-11T13:34:27.629637",
     "exception": false,
     "start_time": "2022-09-11T13:34:27.388943",
     "status": "completed"
    },
    "tags": []
   },
   "outputs": [
    {
     "data": {
      "image/png": "[encoded data removed]",
      "text/plain": [
       "<Figure size 432x288 with 1 Axes>"
      ]
     },
     "metadata": {
      "needs_background": "light"
     },
     "output_type": "display_data"
    }
   ],
   "source": [
    "acc = history.history['accuracy']\n",
    "val_acc = history.history['val_accuracy']\n",
    "loss = history.history['loss']\n",
    "val_loss = history.history['val_loss']\n",
    "epochs = range(1,len(acc)+1)"
   ]
  },
  {
   "cell_type": "code",
   "execution_count": 25,
   "id": "9e6b2ad2",
   "metadata": {
    "_uuid": "f06de482562dcc9fc84491575148d9a0e0e9a6e7",
    "execution": {
     "iopub.execute_input": "2022-09-11T13:34:27.711041Z",
     "iopub.status.busy": "2022-09-11T13:34:27.710751Z",
     "iopub.status.idle": "2022-09-11T13:34:27.934318Z",
     "shell.execute_reply": "2022-09-11T13:34:27.932957Z"
    },
    "papermill": {
     "duration": 0.267765,
     "end_time": "2022-09-11T13:34:27.938225",
     "exception": false,
     "start_time": "2022-09-11T13:34:27.670460",
     "status": "completed"
    },
    "tags": []
   },
   "outputs": [
    {
     "data": {
      "image/png": "[encoded data removed]",
      "text/plain": [
       "<Figure size 432x288 with 1 Axes>"
      ]
     },
     "metadata": {
      "needs_background": "light"
     },
     "output_type": "display_data"
    }
   ],
   "source": [
    "# Accuracy curve\n",
    "plotgraph(epochs, acc, val_acc,\"accuracy\")"
   ]
  },
  {
   "cell_type": "code",
   "execution_count": 26,
   "id": "311b349b",
   "metadata": {
    "_uuid": "97ed44997dc0ed725f7b7842b80e39d0290bc57f",
    "execution": {
     "iopub.execute_input": "2022-09-11T13:34:28.079143Z",
     "iopub.status.busy": "2022-09-11T13:34:28.078758Z",
     "iopub.status.idle": "2022-09-11T13:34:29.809238Z",
     "shell.execute_reply": "2022-09-11T13:34:29.807180Z"
    },
    "papermill": {
     "duration": 1.793512,
     "end_time": "2022-09-11T13:34:29.811857",
     "exception": false,
     "start_time": "2022-09-11T13:34:28.018345",
     "status": "completed"
    },
    "tags": []
   },
   "outputs": [
    {
     "name": "stdout",
     "output_type": "stream",
     "text": [
      "Test loss: 0.35938403010368347\n",
      "Test accuracy: 0.8769615292549133\n"
     ]
    }
   ],
   "source": [
    "# loss curve\n",
    "plotgraph(epochs, loss, val_loss,\"loss\")"
   ]
  },
  {
   "cell_type": "code",
   "execution_count": null,
   "id": "e90e691d",
   "metadata": {
    "papermill": {
     "duration": 0.043921,
     "end_time": "2022-09-11T13:34:29.901167",
     "exception": false,
     "start_time": "2022-09-11T13:34:29.857246",
     "status": "completed"
    },
    "tags": []
   },
   "outputs": [],
   "source": [
    "score = model.evaluate(test_x, test_y, verbose=0)\n",
    "print(\"Test loss:\", score[0])\n",
    "print(\"Test accuracy:\", score[1])"
   ]
  },
  {
   "cell_type": "code",
   "execution_count": null,
   "outputs": [],
   "source": [],
   "metadata": {
    "collapsed": false
   }
  }
 ],
 "metadata": {
  "kernelspec": {
   "display_name": "Python 3",
   "language": "python",
   "name": "python3"
  },
  "language_info": {
   "codemirror_mode": {
    "name": "ipython",
    "version": 3
   },
   "file_extension": ".py",
   "mimetype": "text/x-python",
   "name": "python",
   "nbconvert_exporter": "python",
   "pygments_lexer": "ipython3",
   "version": "3.7.12"
  },
  "papermill": {
   "default_parameters": {},
   "duration": 88.359851,
   "end_time": "2022-09-11T13:34:33.321483",
   "environment_variables": {},
   "exception": null,
   "input_path": "__notebook__.ipynb",
   "output_path": "__notebook__.ipynb",
   "parameters": {},
   "start_time": "2022-09-11T13:33:04.961632",
   "version": "2.3.4"
  }
 },
 "nbformat": 4,
 "nbformat_minor": 5
}
