{
 "cells": [
  {
   "cell_type": "code",
   "execution_count": 11,
   "metadata": {},
   "outputs": [],
   "source": [
    "import cv2\n",
    "import numpy as np\n",
    "import matplotlib.pyplot as plt\n",
    "from tensorflow.keras.datasets import mnist         # библиотека базы выборок Mnist\n",
    "from tensorflow import keras\n",
    "from tensorflow.keras.layers import Dense, Flatten\n",
    "\n",
    "from pathlib import Path\n",
    "from pytesseract import image_to_string"
   ]
  },
  {
   "cell_type": "markdown",
   "metadata": {},
   "source": [
    "# Creating model"
   ]
  },
  {
   "cell_type": "code",
   "execution_count": 12,
   "metadata": {},
   "outputs": [],
   "source": [
    "(x_train, y_train), (x_test, y_test) = mnist.load_data()\n",
    "\n",
    "# стандартизация входных данных\n",
    "X_train = x_train / 255\n",
    "X_test = x_test / 255\n",
    "\n",
    "y_train_cat = keras.utils.to_categorical(y_train, 10)\n",
    "y_test_cat = keras.utils.to_categorical(y_test, 10)\n"
   ]
  },
  {
   "cell_type": "code",
   "execution_count": 13,
   "metadata": {},
   "outputs": [],
   "source": [
    "# type(X_train)\n",
    "# X_train.shape"
   ]
  },
  {
   "cell_type": "code",
   "execution_count": 14,
   "metadata": {},
   "outputs": [],
   "source": [
    "model = keras.Sequential([\n",
    "    Flatten(input_shape=(28, 28, 1)),\n",
    "    Dense(200, activation='relu'),\n",
    "    Dense(10, activation='softmax')\n",
    "])"
   ]
  },
  {
   "cell_type": "code",
   "execution_count": 15,
   "metadata": {},
   "outputs": [
    {
     "name": "stdout",
     "output_type": "stream",
     "text": [
      "Epoch 1/5\n",
      "1600/1600 [==============================] - 3s 2ms/step - loss: 0.2567 - accuracy: 0.9270 - val_loss: 0.1379 - val_accuracy: 0.9601\n",
      "Epoch 2/5\n",
      "1600/1600 [==============================] - 3s 2ms/step - loss: 0.1079 - accuracy: 0.9680 - val_loss: 0.0965 - val_accuracy: 0.9713\n",
      "Epoch 3/5\n",
      "1600/1600 [==============================] - 3s 2ms/step - loss: 0.0710 - accuracy: 0.9786 - val_loss: 0.0907 - val_accuracy: 0.9729\n",
      "Epoch 4/5\n",
      "1600/1600 [==============================] - 3s 2ms/step - loss: 0.0512 - accuracy: 0.9845 - val_loss: 0.0948 - val_accuracy: 0.9720\n",
      "Epoch 5/5\n",
      "1600/1600 [==============================] - 3s 2ms/step - loss: 0.0389 - accuracy: 0.9883 - val_loss: 0.0859 - val_accuracy: 0.9752\n",
      "313/313 [==============================] - 0s 1ms/step - loss: 0.0820 - accuracy: 0.9764\n"
     ]
    },
    {
     "data": {
      "text/plain": "[0.0819944217801094, 0.9764000177383423]"
     },
     "execution_count": 15,
     "metadata": {},
     "output_type": "execute_result"
    }
   ],
   "source": [
    "model.compile(optimizer='adam',\n",
    "             loss='categorical_crossentropy',\n",
    "             metrics=['accuracy'])\n",
    "\n",
    "\n",
    "model.fit(X_train, y_train_cat, batch_size=30, epochs=5, validation_split=0.2)\n",
    "\n",
    "model.evaluate(X_test, y_test_cat)"
   ]
  }
 ],
 "metadata": {
  "kernelspec": {
   "display_name": "Python 3 (ipykernel)",
   "language": "python",
   "name": "python3"
  },
  "language_info": {
   "codemirror_mode": {
    "name": "ipython",
    "version": 3
   },
   "file_extension": ".py",
   "mimetype": "text/x-python",
   "name": "python",
   "nbconvert_exporter": "python",
   "pygments_lexer": "ipython3",
   "version": "3.10.7"
  }
 },
 "nbformat": 4,
 "nbformat_minor": 1
}
